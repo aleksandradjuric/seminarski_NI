{
 "cells": [
  {
   "cell_type": "code",
   "execution_count": 120,
   "metadata": {
    "collapsed": false
   },
   "outputs": [],
   "source": [
    "import skimage as si\n",
    "from scipy import misc\n",
    "import numpy as np\n",
    "import math"
   ]
  },
  {
   "cell_type": "code",
   "execution_count": 121,
   "metadata": {
    "collapsed": false
   },
   "outputs": [],
   "source": [
    "rgb_image = misc.imread(\"kaktus256.bmp\")\n",
    "rgb_image\n",
    "\n",
    "# crvena = rgb_image[:,:,0]\n",
    "# zelena = rgb_image[:,:,1]\n",
    "# plava = rgb_image[:,:,2]\n",
    "\n",
    "siva = np.array((rgb_image[:,:,0]//3 + rgb_image[:,:,1]//3 + rgb_image[:,:,2]//3),dtype='int16')"
   ]
  },
  {
   "cell_type": "code",
   "execution_count": 122,
   "metadata": {
    "collapsed": true
   },
   "outputs": [],
   "source": [
    "rgb_image[:,:,0] = siva\n",
    "rgb_image[:,:,1] = siva\n",
    "rgb_image[:,:,2] = siva"
   ]
  },
  {
   "cell_type": "code",
   "execution_count": 123,
   "metadata": {
    "collapsed": true
   },
   "outputs": [],
   "source": [
    "misc.imsave(\"gray_image.bmp\",rgb_image)"
   ]
  },
  {
   "cell_type": "code",
   "execution_count": 124,
   "metadata": {
    "collapsed": false
   },
   "outputs": [],
   "source": [
    "broj_vertikalnih_blokova = siva.shape[0] // 8\n",
    "broj_horizontalnih_blokova = siva.shape[1] // 8"
   ]
  },
  {
   "cell_type": "code",
   "execution_count": 135,
   "metadata": {
    "collapsed": false
   },
   "outputs": [],
   "source": [
    "#pravljenje matrice T\n",
    "T = np.zeros((8, 8))\n",
    "T[0] = 1/(math.sqrt(8))\n",
    "for i in range(1, 8):\n",
    "    for j in range(0, 8):\n",
    "        T[i][j] = math.sqrt(2/8)*math.cos(((2*j+1)*i*math.pi)/(2*8))"
   ]
  },
  {
   "cell_type": "code",
   "execution_count": 136,
   "metadata": {
    "collapsed": false
   },
   "outputs": [
    {
     "data": {
      "text/plain": [
       "array([[ 10.,   4.,   2.,   5.,   1.,   0.,  -0.,  -0.],\n",
       "       [  3.,   9.,   1.,   2.,   1.,  -0.,   0.,  -0.],\n",
       "       [ -7.,  -5.,   1.,  -2.,  -1.,   0.,  -0.,   0.],\n",
       "       [ -3.,  -5.,  -0.,  -1.,  -0.,   0.,  -0.,   0.],\n",
       "       [ -2.,   1.,  -0.,  -0.,   0.,  -0.,   0.,  -0.],\n",
       "       [ -0.,  -0.,   0.,   0.,   0.,   0.,   0.,   0.],\n",
       "       [  0.,  -0.,   0.,   0.,  -0.,  -0.,   0.,   0.],\n",
       "       [ -0.,   0.,   0.,  -0.,   0.,   0.,   0.,   0.]])"
      ]
     },
     "execution_count": 136,
     "metadata": {},
     "output_type": "execute_result"
    }
   ],
   "source": [
    "#primer sa pdf-a\n",
    "original1 = np.array([[154, 123, 123, 123, 123, 123, 123, 136],\n",
    "              [192, 180, 136, 154, 154, 154, 136, 110],\n",
    "              [254, 198, 154, 154, 180, 154, 123, 123],\n",
    "              [239, 180, 136, 180, 180, 166, 123, 123],\n",
    "              [180, 154, 136, 167, 166, 149, 136, 136],\n",
    "              [128, 136, 123, 136, 154, 180, 198, 154],\n",
    "              [123, 105, 110, 149, 136, 136, 180, 166],\n",
    "              [110, 136, 123, 123, 123, 136, 154, 136]])\n",
    "M1 = original1-128\n",
    "D1 = T.dot(M1.dot(T.transpose()))\n",
    "C1 = np.round(np.divide(D1,Q50))\n",
    "C1"
   ]
  },
  {
   "cell_type": "code",
   "execution_count": 137,
   "metadata": {
    "collapsed": false
   },
   "outputs": [],
   "source": [
    "# pravljenje kvantizacione matrice\n",
    "Q50 = np.array([[16, 11, 10, 16, 24, 40, 51, 61],\n",
    "              [12, 12, 14, 19, 26, 58, 60, 55],\n",
    "              [14, 13, 16, 24, 40, 57, 69, 56],\n",
    "              [14, 17, 22, 29, 51, 87, 80, 62],\n",
    "              [18, 22, 37, 56, 68, 109, 103, 77],\n",
    "              [24, 35, 55, 64, 81, 104, 113, 92],\n",
    "              [49, 64, 78, 87, 103, 121, 120, 101],\n",
    "              [72, 92, 95, 98, 112, 100, 103, 99]],dtype='int16')\n",
    "Q50\n",
    "\n",
    "# na osnovu izbora nivoa kvaliteta pravi se nova kvantizaciona matrica\n",
    "nivo_kvaliteta = 10\n",
    "\n",
    "# nivo kvaliteta treba da bude izmedju 1 i 99\n",
    "if nivo_kvaliteta < 1:\n",
    "    nivo_kvaliteta = 1\n",
    "\n",
    "if nivo_kvaliteta > 99:\n",
    "    nivo_kvaliteta = 100\n",
    "    \n",
    "if nivo_kvaliteta > 50:\n",
    "    Q = (100-nivo_kvaliteta)/50*Q50\n",
    "else:\n",
    "    if nivo_kvaliteta < 50:\n",
    "        Q = 50/nivo_kvaliteta*Q50\n",
    "    else:\n",
    "        Q = Q50\n",
    "\n",
    "Q = np.array(Q, dtype='int16')    \n",
    "\n",
    "for i in range(0, 8):\n",
    "    for j in range(0, 8):\n",
    "        if Q[i, j] > 255:\n",
    "            Q[i, j] = 255\n",
    "        if Q[i, j] < 1:\n",
    "            Q[i, j] = 1"
   ]
  },
  {
   "cell_type": "code",
   "execution_count": 138,
   "metadata": {
    "collapsed": false
   },
   "outputs": [],
   "source": [
    "# obrada 8x8 matrica - kompresija\n",
    "kompresovana_siva = np.zeros(siva.shape)\n",
    "\n",
    "for i in range(0, broj_vertikalnih_blokova):\n",
    "    for j in range(0, broj_horizontalnih_blokova):\n",
    "        # za svaki blok...\n",
    "        original = siva[i*8 : (i*8+8), j*8 : (j*8+8)]\n",
    "        M = original-128\n",
    "        D = T.dot(M.dot(T.transpose()))\n",
    "        C = np.round(np.divide(D,Q))\n",
    "        kompresovana_siva[i*8 : (i*8+8), j*8 : (j*8+8)] = C"
   ]
  },
  {
   "cell_type": "code",
   "execution_count": 139,
   "metadata": {
    "collapsed": false
   },
   "outputs": [],
   "source": [
    "# obrada 8x8  matrica - dekompresija\n",
    "dekompresovana_siva = np.zeros(kompresovana_siva.shape)\n",
    "\n",
    "for i in range(0, broj_vertikalnih_blokova):\n",
    "    for j in range(0, broj_horizontalnih_blokova):\n",
    "        # za svaki blok...\n",
    "        C = kompresovana_siva[i*8 : (i*8+8), j*8 : (j*8+8)]\n",
    "        R = np.multiply(C,Q)\n",
    "        N = np.round((T.transpose()).dot(R.dot(T))) + 128\n",
    "        dekompresovana_siva[i*8 : (i*8+8), j*8 : (j*8+8)] = N\n",
    "\n",
    "\n",
    "rgb_image[:,:,0] = dekompresovana_siva\n",
    "rgb_image[:,:,1] = dekompresovana_siva\n",
    "rgb_image[:,:,2] = dekompresovana_siva\n",
    "misc.imsave(\"gray_image_compressed10.bmp\",rgb_image)"
   ]
  },
  {
   "cell_type": "code",
   "execution_count": null,
   "metadata": {
    "collapsed": true
   },
   "outputs": [],
   "source": []
  }
 ],
 "metadata": {
  "kernelspec": {
   "display_name": "Python 3",
   "language": "python",
   "name": "python3"
  },
  "language_info": {
   "codemirror_mode": {
    "name": "ipython",
    "version": 3
   },
   "file_extension": ".py",
   "mimetype": "text/x-python",
   "name": "python",
   "nbconvert_exporter": "python",
   "pygments_lexer": "ipython3",
   "version": "3.6.0"
  }
 },
 "nbformat": 4,
 "nbformat_minor": 2
}
