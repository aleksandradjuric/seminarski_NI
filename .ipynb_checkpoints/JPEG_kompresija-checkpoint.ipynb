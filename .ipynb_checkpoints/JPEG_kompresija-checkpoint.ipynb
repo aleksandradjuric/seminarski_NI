{
 "cells": [
  {
   "cell_type": "code",
   "execution_count": 1,
   "metadata": {
    "collapsed": false
   },
   "outputs": [],
   "source": [
    "import skimage as si\n",
    "from scipy import misc\n",
    "import numpy as np\n",
    "import math"
   ]
  },
  {
   "cell_type": "code",
   "execution_count": 2,
   "metadata": {
    "collapsed": false
   },
   "outputs": [],
   "source": [
    "rgb_image_original = misc.imread(\"kaktus256.bmp\")\n",
    "\n",
    "# prosirivanje slike ukoliko njena visina ili sirina nije deljiva sa 8\n",
    "# da bi mogla da se podeli na 8x8 blokove\n",
    "sirina_originalne = rgb_image_original.shape[0]\n",
    "visina_originalne = rgb_image_original.shape[1]\n",
    "\n",
    "if sirina_originalne % 8 != 0:\n",
    "    nova_sirina = sirina_originalne + (8 - (sirina_originalne % 8))\n",
    "else:\n",
    "    nova_sirina = sirina_originalne\n",
    "\n",
    "if visina_originalne % 8 != 0:\n",
    "    nova_visina = visina_originalne + (8 - (sirina_originalne % 8))\n",
    "else:\n",
    "    nova_visina = visina_originalne\n",
    "    \n",
    "rgb_image = np.zeros((nova_sirina, nova_visina, 3), dtype='int16')\n",
    "rgb_image[0:sirina_originalne,0:visina_originalne,0] = rgb_image_original[:,:,0]\n",
    "rgb_image[0:sirina_originalne,0:visina_originalne,1] = rgb_image_original[:,:,1]\n",
    "rgb_image[0:sirina_originalne,0:visina_originalne,2] = rgb_image_original[:,:,2]\n",
    "\n",
    "\n",
    "# izdvajanje matrice za svaku boju posebno\n",
    "crvena = np.array(rgb_image[:,:,0],dtype='int16')\n",
    "zelena = np.array(rgb_image[:,:,1],dtype='int16')\n",
    "plava = np.array(rgb_image[:,:,2],dtype='int16')\n",
    "\n",
    "# siva = np.array((crvena+zelena+plava)//3,dtype='int16')"
   ]
  },
  {
   "cell_type": "code",
   "execution_count": 3,
   "metadata": {
    "collapsed": true
   },
   "outputs": [],
   "source": [
    "# rgb_image[:,:,0] = siva\n",
    "# rgb_image[:,:,1] = siva\n",
    "# rgb_image[:,:,2] = siva"
   ]
  },
  {
   "cell_type": "code",
   "execution_count": 4,
   "metadata": {
    "collapsed": true
   },
   "outputs": [],
   "source": [
    "# misc.imsave(\"gray_image.bmp\",rgb_image)"
   ]
  },
  {
   "cell_type": "code",
   "execution_count": 5,
   "metadata": {
    "collapsed": false
   },
   "outputs": [],
   "source": [
    "# izracunavanje broja blokova 8x8\n",
    "broj_vertikalnih_blokova = rgb_image.shape[0] // 8\n",
    "broj_horizontalnih_blokova = rgb_image.shape[1] // 8"
   ]
  },
  {
   "cell_type": "code",
   "execution_count": 6,
   "metadata": {
    "collapsed": false
   },
   "outputs": [],
   "source": [
    "# pravljenje matrice diskretne kosinusne transformacije (DCT)\n",
    "T = np.zeros((8, 8))\n",
    "T[0] = 1/(math.sqrt(8))\n",
    "for i in range(1, 8):\n",
    "    for j in range(0, 8):\n",
    "        T[i][j] = math.sqrt(2/8)*math.cos(((2*j+1)*i*math.pi)/(2*8))"
   ]
  },
  {
   "cell_type": "code",
   "execution_count": 7,
   "metadata": {
    "collapsed": false
   },
   "outputs": [],
   "source": [
    "# pravljenje kvantizacione matrice\n",
    "Q50 = np.array([[16, 11, 10, 16, 24, 40, 51, 61],\n",
    "              [12, 12, 14, 19, 26, 58, 60, 55],\n",
    "              [14, 13, 16, 24, 40, 57, 69, 56],\n",
    "              [14, 17, 22, 29, 51, 87, 80, 62],\n",
    "              [18, 22, 37, 56, 68, 109, 103, 77],\n",
    "              [24, 35, 55, 64, 81, 104, 113, 92],\n",
    "              [49, 64, 78, 87, 103, 121, 120, 101],\n",
    "              [72, 92, 95, 98, 112, 100, 103, 99]],dtype='int16')\n",
    "\n",
    "# na osnovu izbora nivoa kvaliteta pravi se nova kvantizaciona matrica\n",
    "nivo_kvaliteta = 50\n",
    "\n",
    "# nivo kvaliteta treba da bude izmedju 1 i 99\n",
    "if nivo_kvaliteta < 1:\n",
    "    nivo_kvaliteta = 1\n",
    "if nivo_kvaliteta > 99:\n",
    "    nivo_kvaliteta = 100\n",
    "\n",
    "# racunanje nove kvantizacione matrice za izabrani kvalitet\n",
    "if nivo_kvaliteta > 50:\n",
    "    Q = (100-nivo_kvaliteta)/50*Q50\n",
    "else:\n",
    "    if nivo_kvaliteta < 50:\n",
    "        Q = 50/nivo_kvaliteta*Q50\n",
    "    else:\n",
    "        Q = Q50\n",
    "\n",
    "Q = np.array(Q, dtype='int16')    \n",
    "\n",
    "# provera da boja nije izasla iz predvidjenog okvira 0-255\n",
    "for i in range(0, 8):\n",
    "    for j in range(0, 8):\n",
    "        if Q[i, j] > 255:\n",
    "            Q[i, j] = 255\n",
    "        if Q[i, j] < 1:\n",
    "            Q[i, j] = 1"
   ]
  },
  {
   "cell_type": "code",
   "execution_count": 8,
   "metadata": {
    "collapsed": false
   },
   "outputs": [
    {
     "name": "stdout",
     "output_type": "stream",
     "text": [
      "Procenat nula u matricama je:  86.44 \n"
     ]
    }
   ],
   "source": [
    "# kompresija \n",
    "\n",
    "# inicijalizacija matrica\n",
    "kompresovana_crvena = np.zeros(rgb_image.shape[0:2])\n",
    "kompresovana_zelena = np.zeros(rgb_image.shape[0:2])\n",
    "kompresovana_plava = np.zeros(rgb_image.shape[0:2])\n",
    "\n",
    "# inicijalizacija broja nula za svaku boju\n",
    "broj_nula_crvena = 0\n",
    "broj_nula_zelena = 0\n",
    "broj_nula_plava = 0\n",
    "\n",
    "# za svaki blok 8x8 i svaku boju\n",
    "for i in range(0, broj_vertikalnih_blokova):\n",
    "    for j in range(0, broj_horizontalnih_blokova):\n",
    "        # izdvajanje odgovarajuceg bloka\n",
    "        original_crvena = crvena[i*8 : (i*8+8), j*8 : (j*8+8)]\n",
    "        original_zelena = zelena[i*8 : (i*8+8), j*8 : (j*8+8)]\n",
    "        original_plava = plava[i*8 : (i*8+8), j*8 : (j*8+8)]\n",
    "        \n",
    "        # prebacivanje u opseg -128-127 sa kojim radi DCT\n",
    "        M_crvena = original_crvena-128\n",
    "        M_zelena = original_zelena-128\n",
    "        M_plava = original_plava-128\n",
    "        \n",
    "        # primena diskretne kosinusne transformacije (DCT)\n",
    "        D_crvena = T.dot(M_crvena.dot(T.transpose()))\n",
    "        D_zelena = T.dot(M_zelena.dot(T.transpose()))\n",
    "        D_plava = T.dot(M_plava.dot(T.transpose()))\n",
    "        \n",
    "        # kvantizacija - deljenje kvantizacionom matricom\n",
    "        C_crvena = np.round(np.divide(D_crvena,Q))\n",
    "        C_zelena = np.round(np.divide(D_zelena,Q))\n",
    "        C_plava = np.round(np.divide(D_plava,Q))\n",
    "        \n",
    "        # brojenje nula u dobijenoj kompresovanoj matrici\n",
    "        for m in range(0, 8):\n",
    "            for n in range(0, 8):\n",
    "                if C_crvena[m, n] == 0:\n",
    "                    broj_nula_crvena += 1\n",
    "                if C_zelena[m, n] == 0:\n",
    "                    broj_nula_zelena += 1\n",
    "                if C_plava[m, n] == 0:\n",
    "                    broj_nula_plava+= 1\n",
    "                \n",
    "        # prepisivanje u kompresovane matrice cele slike\n",
    "        kompresovana_crvena[i*8 : (i*8+8), j*8 : (j*8+8)] = C_crvena\n",
    "        kompresovana_zelena[i*8 : (i*8+8), j*8 : (j*8+8)] = C_zelena\n",
    "        kompresovana_plava[i*8 : (i*8+8), j*8 : (j*8+8)] = C_plava\n",
    "\n",
    "# procenat 0 u matricama:\n",
    "procenat_nula = (broj_nula_crvena + broj_nula_plava + broj_nula_zelena) / (3 * rgb_image.shape[0] * rgb_image.shape[1]) * 100\n",
    "print('Procenat nula u matricama je: % .2f ' % procenat_nula)"
   ]
  },
  {
   "cell_type": "code",
   "execution_count": 9,
   "metadata": {
    "collapsed": false
   },
   "outputs": [],
   "source": [
    "# dekompresija\n",
    "\n",
    "# inicijalizacija matrica\n",
    "dekompresovana_crvena = np.zeros(rgb_image.shape[0:2])\n",
    "dekompresovana_zelena = np.zeros(rgb_image.shape[0:2])\n",
    "dekompresovana_plava = np.zeros(rgb_image.shape[0:2])\n",
    "\n",
    "# za svaki blok 8x8 i svaku boju\n",
    "for i in range(0, broj_vertikalnih_blokova):\n",
    "    for j in range(0, broj_horizontalnih_blokova):\n",
    "        # izdvajanje odgovarajuceg bloka\n",
    "        C_crvena = kompresovana_crvena[i*8 : (i*8+8), j*8 : (j*8+8)]\n",
    "        C_zelena = kompresovana_zelena[i*8 : (i*8+8), j*8 : (j*8+8)]\n",
    "        C_plava = kompresovana_plava[i*8 : (i*8+8), j*8 : (j*8+8)]\n",
    "        \n",
    "        # mnozenje kvantizacionom matricom\n",
    "        R_crvena = np.multiply(C_crvena,Q)\n",
    "        R_zelena = np.multiply(C_zelena,Q)\n",
    "        R_plava = np.multiply(C_plava,Q)\n",
    "        \n",
    "        # primena inverzne diskretne kosinusne transformacije (IDCT)\n",
    "        N_crvena = np.round((T.transpose()).dot(R_crvena.dot(T))) + 128\n",
    "        N_zelena = np.round((T.transpose()).dot(R_zelena.dot(T))) + 128\n",
    "        N_plava = np.round((T.transpose()).dot(R_plava.dot(T))) + 128\n",
    "        \n",
    "        # provera da boja nije izasla iz predvidjenog okvira 0-255\n",
    "        for m in range(0, 8):\n",
    "            for n in range(0, 8):\n",
    "                if N_crvena[m, n] > 255:\n",
    "                    N_crvena[m, n] = 255\n",
    "                if N_crvena[m, n] < 0:\n",
    "                    N_crvena[m, n] = 0\n",
    "                if N_zelena[m, n] > 255:\n",
    "                    N_zelena[m,n] = 255\n",
    "                if N_zelena[m, n] < 0:\n",
    "                    N_zelena[m, n] = 0\n",
    "                if N_plava[m, n] > 255:\n",
    "                    N_plava[m, n] = 255\n",
    "                if N_plava[m, n] < 0:\n",
    "                    N_plava[m, n] = 0\n",
    "                    \n",
    "        # prepisivanje u dekompresovanu matricu cele slike\n",
    "        dekompresovana_crvena[i*8 : (i*8+8), j*8 : (j*8+8)] = N_crvena\n",
    "        dekompresovana_zelena[i*8 : (i*8+8), j*8 : (j*8+8)] = N_zelena\n",
    "        dekompresovana_plava[i*8 : (i*8+8), j*8 : (j*8+8)] = N_plava\n",
    "\n",
    "# cuvanje nove slike\n",
    "rgb_image_original[:,:,0] = dekompresovana_crvena[0:sirina_originalne,0:visina_originalne]\n",
    "rgb_image_original[:,:,1] = dekompresovana_zelena[0:sirina_originalne,0:visina_originalne]\n",
    "rgb_image_original[:,:,2] = dekompresovana_plava[0:sirina_originalne,0:visina_originalne]\n",
    "misc.imsave(\"gray_image_compressed50.bmp\",rgb_image_original)"
   ]
  },
  {
   "cell_type": "code",
   "execution_count": 10,
   "metadata": {
    "collapsed": false
   },
   "outputs": [
    {
     "data": {
      "text/plain": [
       "array([[ 149.,  134.,  119.,  116.,  121.,  126.,  127.,  128.],\n",
       "       [ 204.,  168.,  140.,  144.,  155.,  150.,  135.,  125.],\n",
       "       [ 253.,  195.,  155.,  166.,  183.,  165.,  131.,  111.],\n",
       "       [ 245.,  185.,  148.,  166.,  184.,  160.,  124.,  107.],\n",
       "       [ 188.,  149.,  132.,  155.,  172.,  159.,  141.,  136.],\n",
       "       [ 132.,  123.,  125.,  143.,  160.,  166.,  168.,  171.],\n",
       "       [ 109.,  119.,  126.,  128.,  139.,  158.,  168.,  166.],\n",
       "       [ 111.,  127.,  127.,  114.,  118.,  141.,  147.,  135.]])"
      ]
     },
     "execution_count": 10,
     "metadata": {},
     "output_type": "execute_result"
    }
   ],
   "source": [
    "#primer sa pdf-a (provera)\n",
    "original1 = np.array([[154, 123, 123, 123, 123, 123, 123, 136],\n",
    "              [192, 180, 136, 154, 154, 154, 136, 110],\n",
    "              [254, 198, 154, 154, 180, 154, 123, 123],\n",
    "              [239, 180, 136, 180, 180, 166, 123, 123],\n",
    "              [180, 154, 136, 167, 166, 149, 136, 136],\n",
    "              [128, 136, 123, 136, 154, 180, 198, 154],\n",
    "              [123, 105, 110, 149, 136, 136, 180, 166],\n",
    "              [110, 136, 123, 123, 123, 136, 154, 136]])\n",
    "M1 = original1-128\n",
    "D1 = T.dot(M1.dot(T.transpose()))\n",
    "C1 = np.round(np.divide(D1,Q50))\n",
    "C1\n",
    "\n",
    "R1 = np.multiply(C1,Q50)\n",
    "N1 = np.round((T.transpose()).dot(R1.dot(T))) + 128\n",
    "N1"
   ]
  }
 ],
 "metadata": {
  "kernelspec": {
   "display_name": "Python 3",
   "language": "python",
   "name": "python3"
  },
  "language_info": {
   "codemirror_mode": {
    "name": "ipython",
    "version": 3
   },
   "file_extension": ".py",
   "mimetype": "text/x-python",
   "name": "python",
   "nbconvert_exporter": "python",
   "pygments_lexer": "ipython3",
   "version": "3.6.0"
  }
 },
 "nbformat": 4,
 "nbformat_minor": 2
}
